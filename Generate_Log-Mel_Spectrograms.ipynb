{
 "cells": [
  {
   "cell_type": "code",
   "execution_count": null,
   "metadata": {},
   "outputs": [],
   "source": [
    "from featureExtractor import load_audio_file, get_mel_spectrogram, modify_file_variable_length\n",
    "import yaml\n",
    "import librosa\n",
    "import librosa.display\n",
    "import matplotlib.pyplot as plt\n",
    "import numpy as np\n",
    "plt.rcParams[\"font.family\"] = \"Times New Roman\""
   ]
  },
  {
   "cell_type": "code",
   "execution_count": null,
   "metadata": {},
   "outputs": [],
   "source": [
    "fs = 96000\n",
    "audio_len_s = 1\n",
    "audio_len_samples = fs * audio_len_s\n",
    "\n",
    "params = yaml.load(open('params.yaml'))\n",
    "params_extract = params['extract']"
   ]
  },
  {
   "cell_type": "code",
   "execution_count": null,
   "metadata": {},
   "outputs": [],
   "source": [
    "params_extract"
   ]
  },
  {
   "cell_type": "code",
   "execution_count": null,
   "metadata": {},
   "outputs": [],
   "source": [
    "f_path = \"/media/phamnhattruong/ReSe/Collaboration/ASSP_RG/Datasets/AugmentedDataset18Aug/Break/fault_56.wav\""
   ]
  },
  {
   "cell_type": "code",
   "execution_count": null,
   "metadata": {},
   "outputs": [],
   "source": [
    "y = load_audio_file(f_path, input_fixed_length=audio_len_samples, params_extract=params_extract)\n",
    "y = modify_file_variable_length(data=y,\n",
    "                                input_fixed_length=audio_len_samples)\n",
    "mel_spectrogram = get_mel_spectrogram(audio=y, params_extract=params_extract)"
   ]
  },
  {
   "cell_type": "code",
   "execution_count": null,
   "metadata": {},
   "outputs": [],
   "source": [
    "plt.figure(figsize=(8, 5))\n",
    "plt.xticks(fontsize=16)\n",
    "plt.xlabel('Time', fontsize=18, fontweight='bold')\n",
    "plt.yticks(fontsize=16)\n",
    "plt.ylabel('Hz', fontsize=18, fontweight='bold')\n",
    "plt.gca().yaxis.set_major_formatter(plt.matplotlib.ticker.StrMethodFormatter('{x:,.0f}'))\n",
    "librosa.display.specshow(mel_spectrogram, sr=fs,x_axis=\"time\", y_axis=\"mel\")\n",
    "cb = plt.colorbar(format='%+2.0f dB')\n",
    "cb.ax.tick_params(labelsize=16)\n",
    "# plt.title(\"log MelSpec\", fontsize=20, fontweight='bold')\n",
    "plt.tight_layout()\n",
    "# plt.savefig(\"fault_56.png\", dpi=300)"
   ]
  },
  {
   "cell_type": "code",
   "execution_count": null,
   "metadata": {},
   "outputs": [],
   "source": []
  }
 ],
 "metadata": {
  "kernelspec": {
   "display_name": "Python 3",
   "language": "python",
   "name": "python3"
  },
  "language_info": {
   "codemirror_mode": {
    "name": "ipython",
    "version": 3
   },
   "file_extension": ".py",
   "mimetype": "text/x-python",
   "name": "python",
   "nbconvert_exporter": "python",
   "pygments_lexer": "ipython3",
   "version": "3.6.8"
  }
 },
 "nbformat": 4,
 "nbformat_minor": 4
}
